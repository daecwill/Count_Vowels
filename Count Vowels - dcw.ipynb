{
 "cells": [
  {
   "cell_type": "markdown",
   "metadata": {},
   "source": [
    "Count Vowels – Enter a string and the program counts the number of vowels in the text. For added complexity have it report a sum of each vowel found"
   ]
  },
  {
   "cell_type": "code",
   "execution_count": 3,
   "metadata": {},
   "outputs": [
    {
     "name": "stdout",
     "output_type": "stream",
     "text": [
      "Welcome to the vowel count program.\n",
      "\n",
      "Please enter some text: \n",
      "Cat in the hat\n",
      "\n",
      "The vowel count is:\n",
      "a: 2\n",
      "i: 1\n",
      "e: 1\n"
     ]
    }
   ],
   "source": [
    "def count_v(text) :\n",
    "    vowels = [\"a\", \"e\", \"i\", \"o\", \"u\"] #for comparison\n",
    "    find_v = {}\n",
    "    letter = \"\"\n",
    "    vowel = \"\"\n",
    "   \n",
    "    text.lower()\n",
    "    \n",
    "    #create a dictionary for the counts\n",
    "    for i in text :\n",
    "        letter = i\n",
    "        for j in vowels :\n",
    "            vowel = j\n",
    "            if letter == vowel :\n",
    "                if vowel in find_v :\n",
    "                    find_v[vowel] += 1\n",
    "                else:\n",
    "                    find_v[vowel] = 1 \n",
    "                    \n",
    "    for key in find_v :\n",
    "        print(f\"{key}: {find_v[key]}\")\n",
    "        \n",
    "\n",
    "print(\"Welcome to the vowel count program.\\n\")\n",
    "text = str(input(\"Please enter some text: \\n\"))\n",
    "print(\"\\nThe vowel count is:\")\n",
    "count_vowels = count_v(text)\n"
   ]
  },
  {
   "cell_type": "code",
   "execution_count": null,
   "metadata": {},
   "outputs": [],
   "source": []
  }
 ],
 "metadata": {
  "kernelspec": {
   "display_name": "Python 3",
   "language": "python",
   "name": "python3"
  },
  "language_info": {
   "codemirror_mode": {
    "name": "ipython",
    "version": 3
   },
   "file_extension": ".py",
   "mimetype": "text/x-python",
   "name": "python",
   "nbconvert_exporter": "python",
   "pygments_lexer": "ipython3",
   "version": "3.8.5"
  }
 },
 "nbformat": 4,
 "nbformat_minor": 4
}
